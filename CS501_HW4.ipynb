{
  "nbformat": 4,
  "nbformat_minor": 0,
  "metadata": {
    "colab": {
      "provenance": [],
      "mount_file_id": "1eqXchKYiyNeSByPLnXi3hipVi3aTWRjG",
      "authorship_tag": "ABX9TyNeNAtDz6Wwj+TyB5NzunUq",
      "include_colab_link": true
    },
    "kernelspec": {
      "name": "python3",
      "display_name": "Python 3"
    },
    "language_info": {
      "name": "python"
    }
  },
  "cells": [
    {
      "cell_type": "markdown",
      "metadata": {
        "id": "view-in-github",
        "colab_type": "text"
      },
      "source": [
        "<a href=\"https://colab.research.google.com/github/inunezfe/cs501hw/blob/main/CS501_HW4.ipynb\" target=\"_parent\"><img src=\"https://colab.research.google.com/assets/colab-badge.svg\" alt=\"Open In Colab\"/></a>"
      ]
    },
    {
      "cell_type": "code",
      "execution_count": 5,
      "metadata": {
        "id": "Ol8AoYNTEoyW"
      },
      "outputs": [],
      "source": [
        "import numpy as np\n",
        "import scipy.linalg as sc\n",
        "import matplotlib.pyplot as plt\n",
        "\n",
        "plt.style.use('seaborn-poster')\n",
        "%matplotlib inline"
      ]
    },
    {
      "cell_type": "markdown",
      "source": [
        "# **Homework #4**\n",
        "\n",
        "## Ivan Arturo Nuñez Ferro\n"
      ],
      "metadata": {
        "id": "nB5kEgjzExe2"
      }
    },
    {
      "cell_type": "markdown",
      "source": [
        "### 1.\n",
        "\n",
        "$(i)$ Consider the following polynomial:\n",
        "\n",
        "\\begin{equation}\n",
        "p(x) = x^4 − 52x^3 + 854x^2 − 4628x^3 + 3825x^4\n",
        "\\end{equation}\n",
        "\n",
        "Setup the companion matrix and compute the roots to the polynomial by computing the eigenvalues of the companion matrix. You may use MatLab for this. What are the function values at the roots that you computed?"
      ],
      "metadata": {
        "id": "UB03aoduE8rJ"
      }
    },
    {
      "cell_type": "markdown",
      "source": [],
      "metadata": {
        "id": "WGxMXituFjMZ"
      }
    },
    {
      "cell_type": "code",
      "source": [
        "from numpy.lib.polynomial import poly1d\n",
        "\n",
        "# coefficients of the poly in descending order\n",
        "c1 = [1,-52,854,-4628,3825]\n",
        "\n",
        "# use the old polynomial for the companion matrix\n",
        "p1 = poly1d(c1)\n",
        "\n",
        "# use the new polynomial for the printing part\n",
        "p_1 = np.polynomial.polynomial.Polynomial(p1.coef[::-1])\n",
        "\n",
        "# calculate companion matrix\n",
        "c = sc.companion(p1)\n",
        "\n",
        "# calculate eigenvalues of the companion matrix\n",
        "w,v = np.linalg.eig(c)\n",
        "\n",
        "# evaluate polynomial with eigenvalues\n",
        "\n",
        "zeros = np.polyval(p1,w)\n",
        "\n",
        "\n",
        "\n",
        "print('The companion matrix is: ')\n",
        "print(c)\n",
        "print('The eigen values for said matrix are: ')\n",
        "print(w)\n",
        "print('Evaluating the polynomial')\n",
        "print(zeros)\n",
        "\n"
      ],
      "metadata": {
        "colab": {
          "base_uri": "https://localhost:8080/"
        },
        "id": "sJC2Lr7pLsX1",
        "outputId": "ece47f0e-5641-4941-e898-b98f375bd3dc"
      },
      "execution_count": 6,
      "outputs": [
        {
          "output_type": "stream",
          "name": "stdout",
          "text": [
            "The companion matrix is: \n",
            "[[ 5.200e+01 -8.540e+02  4.628e+03 -3.825e+03]\n",
            " [ 1.000e+00  0.000e+00  0.000e+00  0.000e+00]\n",
            " [ 0.000e+00  1.000e+00  0.000e+00  0.000e+00]\n",
            " [ 0.000e+00  0.000e+00  1.000e+00  0.000e+00]]\n",
            "The eigen values for said matrix are: \n",
            "[25. 17.  9.  1.]\n",
            "Evaluating the polynomial\n",
            "[-2.61024979e-10 -1.28238753e-10 -1.04591891e-11  0.00000000e+00]\n"
          ]
        }
      ]
    },
    {
      "cell_type": "markdown",
      "source": [
        "As we can see, the values calculated after evaluating the polynomial using the eigenvalues calculated, all the results are zero or very close to zero. "
      ],
      "metadata": {
        "id": "qqbVolr_-8AZ"
      }
    },
    {
      "cell_type": "markdown",
      "source": [
        "$(ii)$ For the following matrix, compute the characteristic polynomial and compute the eigenvalues and eigenvectors from the roots of the polynomial. You may not use MatLab for this.\n",
        "\n",
        "\\begin{equation}\n",
        "\\begin{bmatrix}\n",
        "-2 & -4 & 2 \\\\\n",
        "-2 & 1 & 2 \\\\\n",
        "4 & 2 & 5\n",
        "\\end{bmatrix}\n",
        "\\end{equation}"
      ],
      "metadata": {
        "id": "8we5MU5dnOtq"
      }
    },
    {
      "cell_type": "markdown",
      "source": [
        "### 2.\n",
        "\n",
        "Consider the following matrix:\n",
        "\n",
        "\\begin{equation}\n",
        "\\begin{bmatrix}\n",
        "2 & 1 & 2 \\\\\n",
        "1 & 3 & 1 \\\\\n",
        "2 & 1 & 6\n",
        "\\end{bmatrix}\n",
        "\\end{equation}\n",
        "\n",
        "$(i)$ Compute the largest eigenvalue (in magnitude) and corresponding eigenvector through 10 iterations of the power method. You can use MatLab to compute matrix-vector products in a loop."
      ],
      "metadata": {
        "id": "jQDLf5zFol3y"
      }
    },
    {
      "cell_type": "code",
      "source": [
        "# define matrix and # of iterations\n",
        "A = np.array([[2,1,2],[1,3,1],[2,1,6]])\n",
        "iter = 10\n",
        "\n",
        "# create random vector \n",
        "x = np.random.randint(10,size=3).reshape(3,1)\n",
        "\n",
        "# we use the normalization power iteration\n",
        "for i in range(iter):\n",
        "  y = A.dot(x)\n",
        "  x = y/np.linalg.norm(y, ord=np.inf)\n",
        "\n",
        "\n",
        "# return the values after iteration\n",
        "L_val = np.linalg.norm(y, ord=np.inf)\n",
        "L_vec = x\n",
        "\n",
        "print(f'The largest eigenvalue in magnitude is {L_val}')\n",
        "print(f'The corresponding eigenvector through {iter} iterations is :\\n{L_vec}')"
      ],
      "metadata": {
        "colab": {
          "base_uri": "https://localhost:8080/"
        },
        "id": "bHlnPC-EIkJd",
        "outputId": "30c56886-0f43-4682-dae8-9d37e8c4694f"
      },
      "execution_count": 7,
      "outputs": [
        {
          "output_type": "stream",
          "name": "stdout",
          "text": [
            "The largest eigenvalue in magnitude is 7.236137679414106\n",
            "The corresponding eigenvector through 10 iterations is :\n",
            "[[0.44721892]\n",
            " [0.34165676]\n",
            " [1.        ]]\n"
          ]
        }
      ]
    },
    {
      "cell_type": "markdown",
      "source": [
        "$(ii)$ Compute the smallest eigenvalue (in magnitude) and corresponding eigenvector through 10 iterations of the inverse power iteration method. You can use MatLab to compute inverse and matrix-vector products in a loop.\n",
        "\n"
      ],
      "metadata": {
        "id": "uUnGxJiDpHTr"
      }
    },
    {
      "cell_type": "code",
      "source": [
        "# calculate the inverse of A\n",
        "B = np.linalg.inv(A)\n",
        "\n",
        "# create random vector \n",
        "xb = np.random.randint(10,size=3).reshape(3,1)\n",
        "\n",
        "# we use the inverse power iteration\n",
        "for i in range(iter):\n",
        "  yb = B.dot(x)\n",
        "  xb = yb/np.linalg.norm(yb, ord=np.inf)\n",
        "\n",
        "\n",
        "# return the values after iteration\n",
        "L_val_b = np.linalg.norm(yb, ord=np.inf)\n",
        "L_vec_b = xb\n",
        "\n",
        "print(f'The smallest eigenvalue in magnitude is {L_val_b}')\n",
        "print(f'The corresponding eigenvector through {iter} iterations is :\\n{L_vec_b}')"
      ],
      "metadata": {
        "colab": {
          "base_uri": "https://localhost:8080/"
        },
        "id": "M4i2ay_CpLPM",
        "outputId": "fb94c4c1-76ce-46ce-a2a4-72f1b42a90b6"
      },
      "execution_count": 8,
      "outputs": [
        {
          "output_type": "stream",
          "name": "stdout",
          "text": [
            "The smallest eigenvalue in magnitude is 0.13819526994972375\n",
            "The corresponding eigenvector through 10 iterations is :\n",
            "[[0.44722754]\n",
            " [0.3416826 ]\n",
            " [1.        ]]\n"
          ]
        }
      ]
    },
    {
      "cell_type": "markdown",
      "source": [
        "$(iii)$ Compute the eigenvalue closest to 2, through 10 iterations of the shifted inverse power iteration method. You can use MatLab to compute inverse and matrix-vector products in a loop."
      ],
      "metadata": {
        "id": "fO_DvLvdsplN"
      }
    },
    {
      "cell_type": "code",
      "source": [
        "# define sigma\n",
        "sigma = 2\n",
        "\n",
        "#define sigma i\n",
        "s_i = sigma * np.eye(len(A))\n",
        "\n",
        "# create A shifted and inverted\n",
        "A_shift = np.linalg.inv(A - s_i)\n",
        "\n",
        "# create random vector \n",
        "xs = np.random.randint(10,size=3).reshape(3,1)\n",
        "\n",
        "# we use the shifted inverse power iteration\n",
        "for i in range(iter):\n",
        "  ys = A_shift.dot(xs)\n",
        "  xs = ys/np.linalg.norm(ys, ord=np.inf)\n",
        "\n",
        "# return the values after iteration\n",
        "L_val_s = 1/(np.linalg.norm(ys, ord=np.inf)) + sigma\n",
        "L_vec_s = xs\n",
        "\n",
        "print(f'The smallest eigenvalue in magnitude is {L_val_s}')\n",
        "print(f'The corresponding eigenvector through {iter} iterations is :\\n{L_vec_s}')\n",
        "\n"
      ],
      "metadata": {
        "colab": {
          "base_uri": "https://localhost:8080/"
        },
        "id": "Pl5me0Z-ssCg",
        "outputId": "9371ded4-0e75-4ffc-bfd8-de87d43076c4"
      },
      "execution_count": 9,
      "outputs": [
        {
          "output_type": "stream",
          "name": "stdout",
          "text": [
            "The smallest eigenvalue in magnitude is 2.7792446546326515\n",
            "The corresponding eigenvector through 10 iterations is :\n",
            "[[ 0.21868381]\n",
            " [ 1.        ]\n",
            " [-0.43943915]]\n"
          ]
        }
      ]
    },
    {
      "cell_type": "markdown",
      "source": [
        "### 3.\n",
        "\n",
        "$(i)$ Consider the following matrix:\n",
        "\n",
        "\n",
        "\\begin{equation}\n",
        "\\begin{bmatrix}\n",
        "2 & 1 & 1 \\\\\n",
        "1 & 3 & 1 \\\\\n",
        "1 & 1 & 4\n",
        "\\end{bmatrix}\n",
        "\\end{equation}\n",
        "\n",
        "let $ v = [0.4, 0.5, 0.75]$ be the initial eigenvector estimate. Compute the corresponding eigen- value using Rayleigh Quotient. You may not use MatLab for this."
      ],
      "metadata": {
        "id": "aJT6eoIgsGSQ"
      }
    },
    {
      "cell_type": "markdown",
      "source": [
        "$(ii)$ For the matrix,\n",
        "\n",
        "\\begin{equation}\n",
        "\\begin{bmatrix}\n",
        "1 & 2 & 0 \\\\\n",
        "-2 & 1 & 2 \\\\\n",
        "1 & 3 & 1\n",
        "\\end{bmatrix}\n",
        "\\end{equation}\n",
        "\n",
        "Compute the dominant eigenvalue and eigenvector using 10 iterations of the Rayleigh Quotient Iterations. You may use MatLab for this."
      ],
      "metadata": {
        "id": "qQArGHU8tEgp"
      }
    },
    {
      "cell_type": "code",
      "source": [
        "# Defining matrix\n",
        "A = np.array([[1,2,0],[-2,1,2],[1,3,1]])\n",
        "\n",
        "# number of iterations\n",
        "iter = 10\n",
        "\n",
        "# create random vector \n",
        "xk = np.random.randint(1,10,size=3).reshape(3,1)\n",
        "\n",
        "\n",
        "# Defining the raleigh iteration, that is a shifted power iteration\n",
        "\n",
        "\n",
        "for i in range(iter):\n",
        "  # calculate sigma\n",
        "  aux = np.dot(xk.transpose(),A)\n",
        "  sigma = np.dot(aux,xk)/np.dot(xk.transpose(),xk)\n",
        "  s_i = sigma * np.eye(len(A))\n",
        "  \n",
        "  # create A shifted and inverted \n",
        "  # iteration stops when the matrix is singular, because sigma is a eigenvalue \n",
        "  try:\n",
        "    A_shift = np.linalg.inv(A - s_i)\n",
        "\n",
        "  except(np.linalg.LinAlgError):\n",
        "    break\n",
        "\n",
        "  # shifted power iteration\n",
        "  yk = A_shift.dot(xk)\n",
        "  xk = yk/np.linalg.norm(yk, ord=np.inf)\n",
        "\n",
        "\n",
        "# return the values after iteration\n",
        "L_val_s = sigma.item()\n",
        "L_vec_s = xk\n",
        "\n",
        "print(f'The dominant eigenvalue in magnitude is {L_val_s}')\n",
        "print(f'The corresponding eigenvector through {iter} iterations is :\\n{L_vec_s}')\n",
        "\n"
      ],
      "metadata": {
        "colab": {
          "base_uri": "https://localhost:8080/"
        },
        "id": "7dbNugwgsGHa",
        "outputId": "797316e4-dea8-4749-e0e9-f6206aeb5bda"
      },
      "execution_count": 10,
      "outputs": [
        {
          "output_type": "stream",
          "name": "stdout",
          "text": [
            "The dominant eigenvalue in magnitude is 3.0\n",
            "The corresponding eigenvector through 10 iterations is :\n",
            "[[-0.5]\n",
            " [-0.5]\n",
            " [-1. ]]\n"
          ]
        }
      ]
    },
    {
      "cell_type": "markdown",
      "source": [
        "### 4.\n",
        "\n",
        "$(ii)$ Consider the matrix A:\n",
        "\n",
        "\\begin{equation}\n",
        "A = \n",
        "\\begin{bmatrix}\n",
        "7 & 4 & 1 \\\\\n",
        "4 & 4 & 4 \\\\\n",
        "1 & 4 & 7\n",
        "\\end{bmatrix}\n",
        "\\end{equation}\n",
        "\n",
        "The largest eigenvalue of A is 12. Compute the deflated matrix corresponding to A. You may not use MatLab for this.\n",
        "\n"
      ],
      "metadata": {
        "id": "rHxgTp_gYkKE"
      }
    },
    {
      "cell_type": "markdown",
      "source": [
        "$(ii)$ For the following matrix, run a simultaneous iteration with three vectors.\n",
        "\n",
        "\\begin{equation}\n",
        "B =\n",
        "\\begin{bmatrix}\n",
        "4 & -1 & 1 \\\\\n",
        "-1 & 3 & -2 \\\\\n",
        "1 & -2 & 3\n",
        "\\end{bmatrix}\n",
        "\\end{equation}"
      ],
      "metadata": {
        "id": "laV7qMCgnpcJ"
      }
    },
    {
      "cell_type": "code",
      "source": [
        "# matrix B\n",
        "B = np.array([[4,-1,1],[-1,3,-2],[1,-2,3]])\n",
        "\n",
        "# create random array of 3 by 3 \n",
        "x = np.random.randint(1,10,size=(3,3))\n",
        "\n",
        "print(f'random matrix before iteration: \\n {x}')\n",
        "\n",
        "# number of iteration\n",
        "iter = 20\n",
        "\n",
        "for i in range(iter):\n",
        "  x = np.dot(B,x)\n",
        "\n",
        "print(f'matrix after iteration: \\n {x}')\n",
        "\n",
        "for i in range(len(x)):\n",
        "  # normalize\n",
        "  eig_vec = x[:, i]/np.linalg.norm(x[:, i], ord=np.inf)\n",
        "\n",
        "  # use raleigh quotient\n",
        "  aux = np.dot(eig_vec.transpose(),B)\n",
        "  eig_val = np.dot(aux,eig_vec)/np.dot(eig_vec.transpose(),eig_vec)\n",
        "\n",
        "  print(f\"Eigenvalue associated to x{i}: {eig_val}\")\n",
        "  print(f\"Eigenvector associated to {eig_val}:\\n {eig_vec}\\n\")\n",
        "\n"
      ],
      "metadata": {
        "colab": {
          "base_uri": "https://localhost:8080/"
        },
        "id": "NZ16-TOZnpNU",
        "outputId": "189388c0-67f4-452a-e23c-3e2e0db1dac6"
      },
      "execution_count": 11,
      "outputs": [
        {
          "output_type": "stream",
          "name": "stdout",
          "text": [
            "random matrix before iteration: \n",
            " [[6 7 8]\n",
            " [3 6 8]\n",
            " [7 7 3]]\n",
            "matrix after iteration: \n",
            " [[ 12187204098301656   9749770949567007   3656182847553783]\n",
            " [-12187190151164047  -9749748285468394  -3656146236317567]\n",
            " [ 12187190151164057   9749748285468407   3656146236317578]]\n",
            "Eigenvalue associated to x0: 5.999999999999127\n",
            "Eigenvector associated to 5.999999999999127:\n",
            " [ 1.         -0.99999886  0.99999886]\n",
            "\n",
            "Eigenvalue associated to x1: 5.9999999999963975\n",
            "Eigenvector associated to 5.9999999999963975:\n",
            " [ 1.         -0.99999768  0.99999768]\n",
            "\n",
            "Eigenvalue associated to x2: 5.999999999933153\n",
            "Eigenvector associated to 5.999999999933153:\n",
            " [ 1.         -0.99998999  0.99998999]\n",
            "\n"
          ]
        }
      ]
    },
    {
      "cell_type": "markdown",
      "source": [
        "$(iii)$ For the matrix B, run 10 orthogonal iterations to compute 2 Eigen-pairs simultaneously. You may use MatLab for this."
      ],
      "metadata": {
        "id": "2sxHl5Crozzw"
      }
    },
    {
      "cell_type": "code",
      "source": [
        "# create random array of 3 by 2 \n",
        "x = np.random.randint(1,10,size=(3,2))\n",
        "\n",
        "print(f'random array before iteration: \\n {x}')\n",
        "\n",
        "for i in range(10):\n",
        "    \n",
        "    # get the qr factorization of x\n",
        "    Q, R = np.linalg.qr(x)\n",
        "    \n",
        "    # run a simultation iteration with the q part\n",
        "    x = np.dot(B,Q)\n",
        "\n",
        "print(f'array after iteration: \\n {x}')\n",
        "\n",
        "for i in range(0,2):\n",
        "  # normalize\n",
        "  eig_vec = x[:, i]/np.linalg.norm(x[:, i], ord=np.inf)\n",
        "\n",
        "  # use raleigh quotient\n",
        "  aux = np.dot(eig_vec.transpose(),B)\n",
        "  eig_val = np.dot(aux,eig_vec)/np.dot(eig_vec.transpose(),eig_vec)\n",
        "\n",
        "  print(f\"Eigenvalue associated to x{i}: {eig_val}\")\n",
        "  print(f\"Eigenvector associated to {eig_val}:\\n {eig_vec}\\n\")\n",
        "\n"
      ],
      "metadata": {
        "colab": {
          "base_uri": "https://localhost:8080/"
        },
        "id": "ebM1_kZ1naj-",
        "outputId": "8fff00e2-ae90-46b6-c78a-7da9cd6a2d2f"
      },
      "execution_count": 12,
      "outputs": [
        {
          "output_type": "stream",
          "name": "stdout",
          "text": [
            "random array before iteration: \n",
            " [[8 8]\n",
            " [5 3]\n",
            " [8 2]]\n",
            "array after iteration: \n",
            " [[-3.46809498 -2.44383248]\n",
            " [ 3.46209791 -1.2303739 ]\n",
            " [-3.46209811  1.23042057]]\n",
            "Eigenvalue associated to x0: 5.999998002014227\n",
            "Eigenvector associated to 5.999998002014227:\n",
            " [-1.          0.99827079 -0.99827085]\n",
            "\n",
            "Eigenvalue associated to x1: 3.0000319672107945\n",
            "Eigenvector associated to 3.0000319672107945:\n",
            " [-1.         -0.50346082  0.50347992]\n",
            "\n"
          ]
        }
      ]
    },
    {
      "cell_type": "markdown",
      "source": [
        "### 5.\n",
        "\n",
        "$(i)$ For the following matrix, run 10 Arnoldi iterations and compute the resulting matrix (you may use MatLab for this question)\n",
        "\n",
        "\\begin{equation}\n",
        "A =\n",
        "\\begin{bmatrix}\n",
        "1 & 3 & 2 \\\\\n",
        "2 & 3 & 2 \\\\\n",
        "2 & 1 & 2\n",
        "\\end{bmatrix}\n",
        "\\end{equation}"
      ],
      "metadata": {
        "id": "to34mEKS37nf"
      }
    },
    {
      "cell_type": "code",
      "source": [
        "def arnoldi_iteration(A, b, n: int):\n",
        "    \"\"\"Computes a basis of the (n + 1)-Krylov subspace of A: the space\n",
        "    spanned by {b, Ab, ..., A^n b}.\n",
        "\n",
        "    Arguments\n",
        "      A: m × m array\n",
        "      b: initial vector (length m)\n",
        "      n: dimension of Krylov subspace, must be >= 1\n",
        "    \n",
        "    Returns\n",
        "      Q: m x (n + 1) array, the columns are an orthonormal basis of the\n",
        "        Krylov subspace.\n",
        "      h: (n + 1) x n array, A on basis Q. It is upper Hessenberg.  \n",
        "    \"\"\"\n",
        "    eps = 1e-12\n",
        "    h = np.zeros((n+1,n))\n",
        "    Q = np.zeros((A.shape[0],n+1))\n",
        "     # Normalize the input vector\n",
        "    Q[:,0] =b/np.linalg.norm(b,2)   # Use it as the first Krylov vector\n",
        "    for k in range(1,n+1):\n",
        "        v = np.dot(A,Q[:,k-1])  # Generate a new candidate vector\n",
        "        for j in range(k):  # Subtract the projections on previous vectors\n",
        "            h[j,k-1] = np.dot(Q[:,j].T, v)\n",
        "            v = v - h[j,k-1] * Q[:,j]\n",
        "        h[k,k-1] = np.linalg.norm(v,2)\n",
        "        if h[k,k-1] > eps:  # Add the produced vector to the list, unless\n",
        "            Q[:,k] = v/h[k,k-1]\n",
        "        else:  # If that happens, stop iterating.\n",
        "            return Q, h\n",
        "    return Q, h"
      ],
      "metadata": {
        "id": "gaqJs6jj6_0i"
      },
      "execution_count": 13,
      "outputs": []
    },
    {
      "cell_type": "code",
      "source": [
        "# initial matrix\n",
        "A = np.array([[1,3,2],[2,3,2],[2,1,2]])\n",
        "\n",
        "# create random array of 3 by 2 \n",
        "x = np.random.randint(1,10,size=(3,1)).ravel()\n",
        "\n",
        "# run arnoldi iteration function\n",
        "\n",
        "Q , h = arnoldi_iteration(A,x,20)\n",
        "\n",
        "print(f\"Non-zero columns of Q (basis of Krylov space): \\n\\n{Q[:,0:3]}\\n\")\n",
        "print(f\"A in terms of basis Q. (Hessemberg form) H: \\n\\n{h[0:3,0:3]}\\n\")"
      ],
      "metadata": {
        "colab": {
          "base_uri": "https://localhost:8080/"
        },
        "id": "Y17nC5Eb-mX0",
        "outputId": "8ffd1aef-39e5-4d23-d7a4-6d5f9a59b6fa"
      },
      "execution_count": 14,
      "outputs": [
        {
          "output_type": "stream",
          "name": "stdout",
          "text": [
            "Non-zero columns of Q (basis of Krylov space): \n",
            "\n",
            "[[ 0.7448453  -0.20769813  0.63408751]\n",
            " [ 0.08276059  0.97173771  0.22108032]\n",
            " [ 0.66208471  0.11219318 -0.74098349]]\n",
            "\n",
            "A in terms of basis Q. (Hessemberg form) H: \n",
            "\n",
            "[[ 3.89726027  2.92617756 -0.09550495]\n",
            " [ 2.81928159  2.12585293  0.47591332]\n",
            " [ 0.          1.88284333 -0.0231132 ]]\n",
            "\n"
          ]
        }
      ]
    },
    {
      "cell_type": "markdown",
      "source": [
        "$(ii)$ Run orthogonal iterations on the resulting matrix and compute the eigenvalues."
      ],
      "metadata": {
        "id": "IXobL_xJ7Ar3"
      }
    },
    {
      "cell_type": "code",
      "source": [
        "H = h[0:3,0:3]\n",
        "\n",
        "print(f\"Hessemberg matrix: \\n\\n{H}\\n\")\n",
        "\n",
        "for i in range(20):\n",
        "    \n",
        "    # get the qr factorization of x\n",
        "    Q, R = np.linalg.qr(H)\n",
        "    \n",
        "    # run a simultation iteration with the q part\n",
        "    H = np.dot(R,Q)\n",
        "\n",
        "print(\"Eigenvalues of H:\")\n",
        "for i in range(0, 3):\n",
        "    \n",
        "    print(f\"{H[i, i]:.3f}\")"
      ],
      "metadata": {
        "id": "NhwR8rBc-KTW",
        "colab": {
          "base_uri": "https://localhost:8080/"
        },
        "outputId": "d0b79746-86cf-49ac-86ca-9bdc1ccc25f1"
      },
      "execution_count": 15,
      "outputs": [
        {
          "output_type": "stream",
          "name": "stdout",
          "text": [
            "Hessemberg matrix: \n",
            "\n",
            "[[ 3.89726027  2.92617756 -0.09550495]\n",
            " [ 2.81928159  2.12585293  0.47591332]\n",
            " [ 0.          1.88284333 -0.0231132 ]]\n",
            "\n",
            "Eigenvalues of H:\n",
            "6.056\n",
            "-0.989\n",
            "0.933\n"
          ]
        }
      ]
    }
  ]
}